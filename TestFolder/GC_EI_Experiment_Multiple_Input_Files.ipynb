{
 "cells": [
  {
   "cell_type": "code",
   "execution_count": 2,
   "metadata": {},
   "outputs": [],
   "source": [
    "#search for import above the current directory\n",
    "import sys; sys.path.insert(0, '..')"
   ]
  },
  {
   "cell_type": "code",
   "execution_count": 3,
   "metadata": {},
   "outputs": [],
   "source": [
    "import DataAnalyzerWithPeakInteg"
   ]
  },
  {
   "cell_type": "code",
   "execution_count": 4,
   "metadata": {},
   "outputs": [],
   "source": [
    "#(1) Data Folder: Specify what folder contains the files to be analyzed\n",
    "inputStandardFolder = \"GCTestFolder\"\n",
    "\n",
    "\n",
    "#####################################################################\n",
    "\n",
    "#(2) Experimental parameters\n",
    "#(2a) Specify the order of isotopes as extracted from FT statistic\n",
    "fragmentIsotopeDict = {'92':['13C','UnSub'],'107':['13C','UnSub']}\n",
    "fragmentMostAbundant = ['UnSub','UnSub']\n",
    "\n",
    "#Extract from dictionary. \n",
    "massStr = []\n",
    "fragmentIsotopeList = []\n",
    "for i, v in fragmentIsotopeDict.items():\n",
    "    massStr.append(i)\n",
    "    fragmentIsotopeList.append(v)\n",
    "\n",
    "peakTimeFrames = [(8.54, 8.86), (8.54, 8.86)] #p-xylene\n",
    "\n",
    "#####################################################################\n",
    "#(3) Set toggles for data analysis\n",
    "\n",
    "dataCullThreshhold = None #default = None; a target variable, like 'tic', or 'TIC*IT' to use to determine which scans to call. \n",
    "cullZeroScansOn = False #True/False\n",
    "trapRuleOn = False #True/False, when False, the code integrates by adding counts over a peak and then taking the ratio with the unsubstitutde\n",
    "baselineSubstractionOn = True #True/False, when False, no baseline correction is applied to NL scores\n",
    "gc_elution_on = True #True/False, when False, all scans are taken to calculate ratios\n",
    "NLoverTIC = 0.10 #Threshhold to cull for NL values above TIC for stable isotope ratio measurements. Currently not functional\n",
    "weightbyNLHeight = True\n",
    "\n",
    "#####################################################################\n",
    " "
   ]
  },
  {
   "cell_type": "code",
   "execution_count": 5,
   "metadata": {},
   "outputs": [
    {
     "name": "stdout",
     "output_type": "stream",
     "text": [
      "GCTestFolder/02172021_pxylene_newMethod_80_120_1ul_01.xlsx\n",
      "13Ctiming: counts13C    684\n",
      "dtype: int64\n",
      "UnSubtiming: countsUnSub    684\n",
      "dtype: int64\n",
      "13Ctiming: counts13C    684\n",
      "dtype: int64\n",
      "UnSubtiming: countsUnSub    684\n",
      "dtype: int64\n",
      "GCTestFolder/02172021_pxylene_newMethod_80_120_1ul_02.xlsx\n",
      "13Ctiming: counts13C    642\n",
      "dtype: int64\n",
      "UnSubtiming: countsUnSub    642\n",
      "dtype: int64\n",
      "13Ctiming: counts13C    642\n",
      "dtype: int64\n",
      "UnSubtiming: countsUnSub    642\n",
      "dtype: int64\n",
      "GCTestFolder/02172021_pxylene_newMethod_80_120_1ul_03.xlsx\n",
      "13Ctiming: counts13C    625\n",
      "dtype: int64\n",
      "UnSubtiming: countsUnSub    625\n",
      "dtype: int64\n",
      "13Ctiming: counts13C    625\n",
      "dtype: int64\n",
      "UnSubtiming: countsUnSub    625\n",
      "dtype: int64\n"
     ]
    }
   ],
   "source": [
    "#(4) Perform the data analysis and return the output! (Output is also exported to CSV in the underlying code, to the inputFolder path)\n",
    "Output, StatsOutput = DataAnalyzerWithPeakInteg.calc_Folder_Output(inputStandardFolder, \n",
    "                                           cullOn=dataCullThreshhold, \n",
    "                                           cullAmount=2,\n",
    "                                           cullZeroScansOn=cullZeroScansOn, \n",
    "                                           trapRuleOn = trapRuleOn,\n",
    "                                           baselineSubstractionOn=True,\n",
    "                                           gcElutionOn=gc_elution_on,\n",
    "                                           gcElutionTimes = peakTimeFrames,\n",
    "                                           fragmentIsotopeList = fragmentIsotopeList, \n",
    "                                           fragmentMostAbundant = fragmentMostAbundant,\n",
    "                                           NL_over_TIC=NLoverTIC,\n",
    "                                           fileCsvOutputPath=None,\n",
    "                                           debug = True)"
   ]
  },
  {
   "cell_type": "code",
   "execution_count": null,
   "metadata": {},
   "outputs": [],
   "source": []
  },
  {
   "cell_type": "code",
   "execution_count": null,
   "metadata": {},
   "outputs": [],
   "source": []
  }
 ],
 "metadata": {
  "kernelspec": {
   "display_name": "Python [conda env:Orbitrap] *",
   "language": "python",
   "name": "conda-env-Orbitrap-py"
  },
  "language_info": {
   "codemirror_mode": {
    "name": "ipython",
    "version": 3
   },
   "file_extension": ".py",
   "mimetype": "text/x-python",
   "name": "python",
   "nbconvert_exporter": "python",
   "pygments_lexer": "ipython3",
   "version": "3.8.5"
  }
 },
 "nbformat": 4,
 "nbformat_minor": 4
}
